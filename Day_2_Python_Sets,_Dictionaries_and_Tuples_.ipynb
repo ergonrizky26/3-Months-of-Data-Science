{
  "nbformat": 4,
  "nbformat_minor": 0,
  "metadata": {
    "colab": {
      "provenance": [],
      "authorship_tag": "ABX9TyPRrs1G0Apc/kjNq+bqI8/O",
      "include_colab_link": true
    },
    "kernelspec": {
      "name": "python3",
      "display_name": "Python 3"
    },
    "language_info": {
      "name": "python"
    }
  },
  "cells": [
    {
      "cell_type": "markdown",
      "metadata": {
        "id": "view-in-github",
        "colab_type": "text"
      },
      "source": [
        "<a href=\"https://colab.research.google.com/github/ergonrizky26/3-Months-of-Data-Science/blob/main/Day_2_Python_Sets%2C_Dictionaries_and_Tuples_.ipynb\" target=\"_parent\"><img src=\"https://colab.research.google.com/assets/colab-badge.svg\" alt=\"Open In Colab\"/></a>"
      ]
    },
    {
      "cell_type": "markdown",
      "source": [
        "# Sets\n",
        "\n",
        "A Set is an unordered collection data type that is iterable, mutable, and has no duplicate elements. Python's set class <br>\n",
        "represent the mathematical notion of a set. This is based on a data structure known as a hast table"
      ],
      "metadata": {
        "id": "ipNpgBr57vGY"
      }
    },
    {
      "cell_type": "code",
      "execution_count": 1,
      "metadata": {
        "colab": {
          "base_uri": "https://localhost:8080/"
        },
        "id": "Mz0sBMqm7dmi",
        "outputId": "1932ad44-fac5-4e75-8079-a89a1ef7230c"
      },
      "outputs": [
        {
          "output_type": "stream",
          "name": "stdout",
          "text": [
            "set()\n",
            "<class 'set'>\n"
          ]
        }
      ],
      "source": [
        "# Defining on empty set\n",
        "\n",
        "set_var = set()\n",
        "print(set_var)\n",
        "print(type(set_var))"
      ]
    },
    {
      "cell_type": "code",
      "source": [
        "set_var = {1, 2, 3, 4, 5}"
      ],
      "metadata": {
        "id": "acYRs9kX7yEb"
      },
      "execution_count": 9,
      "outputs": []
    },
    {
      "cell_type": "code",
      "source": [
        "set_var"
      ],
      "metadata": {
        "colab": {
          "base_uri": "https://localhost:8080/"
        },
        "id": "xJizWPOW77wR",
        "outputId": "c27ecbd0-2be7-459e-bcfa-dbd67f25c927"
      },
      "execution_count": 5,
      "outputs": [
        {
          "output_type": "execute_result",
          "data": {
            "text/plain": [
              "{1, 2, 3, 4, 5}"
            ]
          },
          "metadata": {},
          "execution_count": 5
        }
      ]
    },
    {
      "cell_type": "code",
      "source": [
        "set_var = {\"Avengers\", \"IronMan\", \"Hitman\"}\n",
        "print(set_var)\n",
        "type(set_var)"
      ],
      "metadata": {
        "colab": {
          "base_uri": "https://localhost:8080/"
        },
        "id": "RUfKCiMU788K",
        "outputId": "34e87739-b12f-42bd-f50f-a79d97a4fb0f"
      },
      "execution_count": 6,
      "outputs": [
        {
          "output_type": "stream",
          "name": "stdout",
          "text": [
            "{'Hitman', 'Avengers', 'IronMan'}\n"
          ]
        },
        {
          "output_type": "execute_result",
          "data": {
            "text/plain": [
              "set"
            ]
          },
          "metadata": {},
          "execution_count": 6
        }
      ]
    },
    {
      "cell_type": "code",
      "source": [
        "# Inbuilt function in sets\n",
        "\n",
        "set_var.add(\"Hulk\")"
      ],
      "metadata": {
        "id": "xExcMy7t8W9B"
      },
      "execution_count": 10,
      "outputs": []
    },
    {
      "cell_type": "code",
      "source": [
        "print(set_var)"
      ],
      "metadata": {
        "colab": {
          "base_uri": "https://localhost:8080/"
        },
        "id": "wdCoTUMh81jT",
        "outputId": "66b6ed7f-8a67-4b39-d20d-3eea341dea3d"
      },
      "execution_count": 11,
      "outputs": [
        {
          "output_type": "stream",
          "name": "stdout",
          "text": [
            "{1, 2, 3, 4, 5, 'Hulk'}\n"
          ]
        }
      ]
    },
    {
      "cell_type": "code",
      "source": [
        "set1 = {\"Avengers\", \"IronMan\", \"Hitman\"}\n",
        "set2 = {\"Avengers\", \"IronMan\", \"Hitman\", \"Hulk2\"}"
      ],
      "metadata": {
        "id": "HvP4YHR-83tZ"
      },
      "execution_count": 19,
      "outputs": []
    },
    {
      "cell_type": "code",
      "source": [
        "# Difference\n",
        "\n",
        "set2.difference(set1)"
      ],
      "metadata": {
        "colab": {
          "base_uri": "https://localhost:8080/"
        },
        "id": "IVTZPx2w9dOJ",
        "outputId": "4d175440-53f6-47b3-adf9-4d9873749932"
      },
      "execution_count": 13,
      "outputs": [
        {
          "output_type": "execute_result",
          "data": {
            "text/plain": [
              "{'Hulk2'}"
            ]
          },
          "metadata": {},
          "execution_count": 13
        }
      ]
    },
    {
      "cell_type": "code",
      "source": [
        "print(set2)"
      ],
      "metadata": {
        "colab": {
          "base_uri": "https://localhost:8080/"
        },
        "id": "XCiTJ6cF96Js",
        "outputId": "31fccc73-fdcd-4720-d293-c66004239ff9"
      },
      "execution_count": 14,
      "outputs": [
        {
          "output_type": "stream",
          "name": "stdout",
          "text": [
            "{'IronMan', 'Hitman', 'Avengers', 'Hulk2'}\n"
          ]
        }
      ]
    },
    {
      "cell_type": "code",
      "source": [
        "# Difference Update\n",
        "\n",
        "set2.difference_update(set1)"
      ],
      "metadata": {
        "id": "ap4xU1TT9iit"
      },
      "execution_count": 15,
      "outputs": []
    },
    {
      "cell_type": "code",
      "source": [
        "print(set2)"
      ],
      "metadata": {
        "colab": {
          "base_uri": "https://localhost:8080/"
        },
        "id": "NLn8fQd-998O",
        "outputId": "9ff6dae9-6134-4c05-f475-b770095dcd6c"
      },
      "execution_count": 16,
      "outputs": [
        {
          "output_type": "stream",
          "name": "stdout",
          "text": [
            "{'Hulk2'}\n"
          ]
        }
      ]
    },
    {
      "cell_type": "code",
      "source": [
        "# Intersection\n",
        "\n",
        "set2.intersection(set1)"
      ],
      "metadata": {
        "colab": {
          "base_uri": "https://localhost:8080/"
        },
        "id": "rRFKXceI9_Xj",
        "outputId": "21c1d23c-8c71-46d4-ba56-34fab6e06606"
      },
      "execution_count": 20,
      "outputs": [
        {
          "output_type": "execute_result",
          "data": {
            "text/plain": [
              "{'Avengers', 'Hitman', 'IronMan'}"
            ]
          },
          "metadata": {},
          "execution_count": 20
        }
      ]
    },
    {
      "cell_type": "code",
      "source": [
        "# Intersection Update\n",
        "\n",
        "set2.intersection_update(set1)"
      ],
      "metadata": {
        "id": "rlcHgwRN-cMZ"
      },
      "execution_count": 21,
      "outputs": []
    },
    {
      "cell_type": "code",
      "source": [
        "set2"
      ],
      "metadata": {
        "colab": {
          "base_uri": "https://localhost:8080/"
        },
        "id": "WHxXSu8e-kk6",
        "outputId": "8b459ef9-8712-4f5c-c03b-5f946ee8ae6c"
      },
      "execution_count": 22,
      "outputs": [
        {
          "output_type": "execute_result",
          "data": {
            "text/plain": [
              "{'Avengers', 'Hitman', 'IronMan'}"
            ]
          },
          "metadata": {},
          "execution_count": 22
        }
      ]
    },
    {
      "cell_type": "code",
      "source": [],
      "metadata": {
        "id": "lx_Dahi--lVY"
      },
      "execution_count": null,
      "outputs": []
    },
    {
      "cell_type": "markdown",
      "source": [
        "# Dictionaries\n",
        "\n",
        "A dictionary is a collection which is unordered, changeable, and indexed. In Python, dictionaries are written with curly brackets, <br>\n",
        "and they have keys and values."
      ],
      "metadata": {
        "id": "I7VgoNJY-rrQ"
      }
    },
    {
      "cell_type": "code",
      "source": [
        "dic = {}"
      ],
      "metadata": {
        "id": "7b8HimBf-taA"
      },
      "execution_count": 23,
      "outputs": []
    },
    {
      "cell_type": "code",
      "source": [
        "type(dic)"
      ],
      "metadata": {
        "colab": {
          "base_uri": "https://localhost:8080/"
        },
        "id": "kCb0nbl6_JtG",
        "outputId": "203ad685-a599-492c-e671-fcd293b1698b"
      },
      "execution_count": 24,
      "outputs": [
        {
          "output_type": "execute_result",
          "data": {
            "text/plain": [
              "dict"
            ]
          },
          "metadata": {},
          "execution_count": 24
        }
      ]
    },
    {
      "cell_type": "code",
      "source": [
        "dic = {1, 2, 3, 4, 5}\n",
        "type(dic)"
      ],
      "metadata": {
        "colab": {
          "base_uri": "https://localhost:8080/"
        },
        "id": "9mJeKgQH_LOW",
        "outputId": "d425e7b2-be5f-4ab1-af88-ec17f93198af"
      },
      "execution_count": 26,
      "outputs": [
        {
          "output_type": "execute_result",
          "data": {
            "text/plain": [
              "set"
            ]
          },
          "metadata": {},
          "execution_count": 26
        }
      ]
    },
    {
      "cell_type": "code",
      "source": [
        "# Create simple dictionary\n",
        "\n",
        "my_dict = {\"Car1\" : \"Audi\", \"Car2\" : \"BMW\", \"Car3\" : \"Mercedes Benz\"}"
      ],
      "metadata": {
        "id": "8G8MdlV9_Qnx"
      },
      "execution_count": 27,
      "outputs": []
    },
    {
      "cell_type": "code",
      "source": [
        "type(my_dict)"
      ],
      "metadata": {
        "colab": {
          "base_uri": "https://localhost:8080/"
        },
        "id": "2K5SXwvN_xmb",
        "outputId": "c9f67570-46cf-4920-f7dc-4b28c9111825"
      },
      "execution_count": 28,
      "outputs": [
        {
          "output_type": "execute_result",
          "data": {
            "text/plain": [
              "dict"
            ]
          },
          "metadata": {},
          "execution_count": 28
        }
      ]
    },
    {
      "cell_type": "code",
      "source": [
        "# Access the item values based on keys\n",
        "\n",
        "my_dict['Car1']"
      ],
      "metadata": {
        "colab": {
          "base_uri": "https://localhost:8080/",
          "height": 35
        },
        "id": "fCuFdPfJ_zVL",
        "outputId": "2eb9a6d7-4d03-4296-c8d4-841bd3b25b4f"
      },
      "execution_count": 29,
      "outputs": [
        {
          "output_type": "execute_result",
          "data": {
            "text/plain": [
              "'Audi'"
            ],
            "application/vnd.google.colaboratory.intrinsic+json": {
              "type": "string"
            }
          },
          "metadata": {},
          "execution_count": 29
        }
      ]
    },
    {
      "cell_type": "code",
      "source": [
        "# We can even loop throught the dictionaries keys\n",
        "\n",
        "for x in my_dict:\n",
        "  print(x)"
      ],
      "metadata": {
        "colab": {
          "base_uri": "https://localhost:8080/"
        },
        "id": "QXbt6_tIAHXR",
        "outputId": "5e6e203c-8fbf-4a52-a029-4243c83148ce"
      },
      "execution_count": 30,
      "outputs": [
        {
          "output_type": "stream",
          "name": "stdout",
          "text": [
            "Car1\n",
            "Car2\n",
            "Car3\n"
          ]
        }
      ]
    },
    {
      "cell_type": "code",
      "source": [
        "# We can even loop throught the dictionaries values\n",
        "\n",
        "for x in my_dict.values():\n",
        "  print(x)"
      ],
      "metadata": {
        "colab": {
          "base_uri": "https://localhost:8080/"
        },
        "id": "FunHJj4sAbWM",
        "outputId": "0b3dad12-0c35-44a8-fd06-fd45752e3b9c"
      },
      "execution_count": 31,
      "outputs": [
        {
          "output_type": "stream",
          "name": "stdout",
          "text": [
            "Audi\n",
            "BMW\n",
            "Mercedes Benz\n"
          ]
        }
      ]
    },
    {
      "cell_type": "code",
      "source": [
        "# We can also check both keys and values\n",
        "\n",
        "for x in my_dict.items():\n",
        "  print(x)"
      ],
      "metadata": {
        "colab": {
          "base_uri": "https://localhost:8080/"
        },
        "id": "7TZ9cqR4Amg1",
        "outputId": "ea9b428b-2178-439b-bf70-0c25e8dc483e"
      },
      "execution_count": 32,
      "outputs": [
        {
          "output_type": "stream",
          "name": "stdout",
          "text": [
            "('Car1', 'Audi')\n",
            "('Car2', 'BMW')\n",
            "('Car3', 'Mercedes Benz')\n"
          ]
        }
      ]
    },
    {
      "cell_type": "code",
      "source": [
        "# Adding items in Dictionaries\n",
        "\n",
        "my_dict['car4'] = \"Audi 2.0\""
      ],
      "metadata": {
        "id": "tFG2MF_zA6Aj"
      },
      "execution_count": 33,
      "outputs": []
    },
    {
      "cell_type": "code",
      "source": [
        "my_dict"
      ],
      "metadata": {
        "colab": {
          "base_uri": "https://localhost:8080/"
        },
        "id": "mSq_u0RKBI7e",
        "outputId": "f57d28b7-a491-4913-e86c-d881d077db34"
      },
      "execution_count": 34,
      "outputs": [
        {
          "output_type": "execute_result",
          "data": {
            "text/plain": [
              "{'Car1': 'Audi', 'Car2': 'BMW', 'Car3': 'Mercedes Benz', 'car4': 'Audi 2.0'}"
            ]
          },
          "metadata": {},
          "execution_count": 34
        }
      ]
    },
    {
      "cell_type": "code",
      "source": [
        "# Updating values based on keys\n",
        "\n",
        "my_dict['Car1'] = \"Porsche\""
      ],
      "metadata": {
        "id": "aclYlSMGBKV2"
      },
      "execution_count": 37,
      "outputs": []
    },
    {
      "cell_type": "code",
      "source": [
        "my_dict"
      ],
      "metadata": {
        "colab": {
          "base_uri": "https://localhost:8080/"
        },
        "id": "yakYLTmtBjev",
        "outputId": "330a6aa1-99b8-448e-bbad-d714c8030901"
      },
      "execution_count": 38,
      "outputs": [
        {
          "output_type": "execute_result",
          "data": {
            "text/plain": [
              "{'Car1': 'Porsche',\n",
              " 'Car2': 'BMW',\n",
              " 'Car3': 'Mercedes Benz',\n",
              " 'car4': 'Audi 2.0',\n",
              " 'car1': 'Porsche'}"
            ]
          },
          "metadata": {},
          "execution_count": 38
        }
      ]
    },
    {
      "cell_type": "markdown",
      "source": [
        "## Nested Dictionary"
      ],
      "metadata": {
        "id": "3b0IxwKYBv97"
      }
    },
    {
      "cell_type": "code",
      "source": [
        "car1_model = {'Mercedes' : 1960}\n",
        "car2_model = {'Audi' : 1970}\n",
        "car3_model = {'Ambassador' : 1980}\n",
        "\n",
        "car_type = {'car1' : car1_model, 'car2' : car2_model, 'car3' : car3_model}"
      ],
      "metadata": {
        "id": "WhNmE9RJBkZq"
      },
      "execution_count": 39,
      "outputs": []
    },
    {
      "cell_type": "code",
      "source": [
        "print(car_type)"
      ],
      "metadata": {
        "colab": {
          "base_uri": "https://localhost:8080/"
        },
        "id": "32nUhJ7xCZBv",
        "outputId": "9d5e035a-d9c1-4c50-a77d-98d7e23ee393"
      },
      "execution_count": 40,
      "outputs": [
        {
          "output_type": "stream",
          "name": "stdout",
          "text": [
            "{'car1': {'Mercedes': 1960}, 'car2': {'Audi': 1970}, 'car3': {'Ambassador': 1980}}\n"
          ]
        }
      ]
    },
    {
      "cell_type": "code",
      "source": [
        "# Accessing the items in the dictionary\n",
        "\n",
        "print(car_type['car1'])"
      ],
      "metadata": {
        "colab": {
          "base_uri": "https://localhost:8080/"
        },
        "id": "rRiWYAwhCbdf",
        "outputId": "92502d46-fadf-4652-f2af-262d1060d1b5"
      },
      "execution_count": 41,
      "outputs": [
        {
          "output_type": "stream",
          "name": "stdout",
          "text": [
            "{'Mercedes': 1960}\n"
          ]
        }
      ]
    },
    {
      "cell_type": "code",
      "source": [
        "print(car_type['car1']['Mercedes'])"
      ],
      "metadata": {
        "colab": {
          "base_uri": "https://localhost:8080/"
        },
        "id": "HGWyzx-HCqOq",
        "outputId": "b3b4a6be-a8a5-48cb-f211-f6ebc7738b31"
      },
      "execution_count": 43,
      "outputs": [
        {
          "output_type": "stream",
          "name": "stdout",
          "text": [
            "1960\n"
          ]
        }
      ]
    },
    {
      "cell_type": "markdown",
      "source": [
        "# Tuples\n",
        "\n",
        "Tuple is not mutable, not changeable"
      ],
      "metadata": {
        "id": "ftqeB6o1C68B"
      }
    },
    {
      "cell_type": "code",
      "source": [
        "# Create an empty Tuples\n",
        "\n",
        "my_tuple = tuple()"
      ],
      "metadata": {
        "id": "Uoeotf4NC8R8"
      },
      "execution_count": 46,
      "outputs": []
    },
    {
      "cell_type": "code",
      "source": [
        "type(my_tuple)"
      ],
      "metadata": {
        "colab": {
          "base_uri": "https://localhost:8080/"
        },
        "id": "jTdjEoatDToT",
        "outputId": "04f4ecb7-91a2-4da4-ee32-8a825941fa14"
      },
      "execution_count": 47,
      "outputs": [
        {
          "output_type": "execute_result",
          "data": {
            "text/plain": [
              "tuple"
            ]
          },
          "metadata": {},
          "execution_count": 47
        }
      ]
    },
    {
      "cell_type": "code",
      "source": [
        "my_tuple = ()\n",
        "type(my_tuple)"
      ],
      "metadata": {
        "colab": {
          "base_uri": "https://localhost:8080/"
        },
        "id": "80J333TJDadI",
        "outputId": "f19ed791-11b8-4f06-f0ff-ace64b51b6e5"
      },
      "execution_count": 48,
      "outputs": [
        {
          "output_type": "execute_result",
          "data": {
            "text/plain": [
              "tuple"
            ]
          },
          "metadata": {},
          "execution_count": 48
        }
      ]
    },
    {
      "cell_type": "code",
      "source": [
        "my_tuples = (\"John\", \"Rich\", \"Kevin\")"
      ],
      "metadata": {
        "id": "aCfG6VBBDhN5"
      },
      "execution_count": 49,
      "outputs": []
    },
    {
      "cell_type": "code",
      "source": [
        "my_tuples[0]"
      ],
      "metadata": {
        "colab": {
          "base_uri": "https://localhost:8080/",
          "height": 35
        },
        "id": "zjPeWDrEDppk",
        "outputId": "2267da31-abde-476c-c723-a768c585d477"
      },
      "execution_count": 50,
      "outputs": [
        {
          "output_type": "execute_result",
          "data": {
            "text/plain": [
              "'John'"
            ],
            "application/vnd.google.colaboratory.intrinsic+json": {
              "type": "string"
            }
          },
          "metadata": {},
          "execution_count": 50
        }
      ]
    },
    {
      "cell_type": "code",
      "source": [
        "print(type(my_tuples))\n",
        "print(my_tuples)"
      ],
      "metadata": {
        "colab": {
          "base_uri": "https://localhost:8080/"
        },
        "id": "-arg9jPWDtbo",
        "outputId": "e2086af9-0a68-4fe2-fc1d-781fc3e60003"
      },
      "execution_count": 51,
      "outputs": [
        {
          "output_type": "stream",
          "name": "stdout",
          "text": [
            "<class 'tuple'>\n",
            "('John', 'Rich', 'Kevin')\n"
          ]
        }
      ]
    },
    {
      "cell_type": "code",
      "source": [
        "# Inbuilt Function in Tuple\n",
        "\n",
        "my_tuples.count(\"John\")"
      ],
      "metadata": {
        "colab": {
          "base_uri": "https://localhost:8080/"
        },
        "id": "X3fCO6P4D6oK",
        "outputId": "f12a44ac-27ce-410e-e43a-ecb61860537f"
      },
      "execution_count": 53,
      "outputs": [
        {
          "output_type": "execute_result",
          "data": {
            "text/plain": [
              "1"
            ]
          },
          "metadata": {},
          "execution_count": 53
        }
      ]
    },
    {
      "cell_type": "code",
      "source": [
        "my_tuples.index(\"Rich\")"
      ],
      "metadata": {
        "colab": {
          "base_uri": "https://localhost:8080/"
        },
        "id": "ag-YgL5UEH3w",
        "outputId": "9b32b8cc-7b8f-47ab-f646-0b622b7a5314"
      },
      "execution_count": 54,
      "outputs": [
        {
          "output_type": "execute_result",
          "data": {
            "text/plain": [
              "1"
            ]
          },
          "metadata": {},
          "execution_count": 54
        }
      ]
    }
  ]
}