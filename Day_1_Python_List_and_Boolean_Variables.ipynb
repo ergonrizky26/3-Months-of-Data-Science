{
  "nbformat": 4,
  "nbformat_minor": 0,
  "metadata": {
    "colab": {
      "provenance": [],
      "authorship_tag": "ABX9TyM6r9K1+ZHxsrHplFgcAIjk",
      "include_colab_link": true
    },
    "kernelspec": {
      "name": "python3",
      "display_name": "Python 3"
    },
    "language_info": {
      "name": "python"
    }
  },
  "cells": [
    {
      "cell_type": "markdown",
      "metadata": {
        "id": "view-in-github",
        "colab_type": "text"
      },
      "source": [
        "<a href=\"https://colab.research.google.com/github/ergonrizky26/3-Months-of-Data-Science/blob/main/Day_1_Python_List_and_Boolean_Variables.ipynb\" target=\"_parent\"><img src=\"https://colab.research.google.com/assets/colab-badge.svg\" alt=\"Open In Colab\"/></a>"
      ]
    },
    {
      "cell_type": "markdown",
      "source": [
        "# Python Data Structures and Boolean\n",
        "\n",
        "* Boolean\n",
        "* Boolean and Logical Operators\n",
        "* Lists\n",
        "* Comparison Operators\n",
        "* Dictionaries\n",
        "* Tuples\n",
        "* Sets"
      ],
      "metadata": {
        "id": "MZgo7twa1eQF"
      }
    },
    {
      "cell_type": "markdown",
      "source": [
        "# Boolean Variables\n",
        "\n",
        "Boolean values are two constant objects False and True\n",
        "\n",
        "They are used to represent truth values (other values can also be considered false or true).\n",
        "\n",
        "In numeric contexts (for example, when used as the argument to an arithmetic operator), they behave like the integers 0 and <br>\n",
        "1, respectively.\n",
        "\n",
        "The built-in function bool() can be used to cast any value to Boolean, if the value can be interpreted as a truth value\n",
        "\n",
        "They are written as False and True, respectively.\n"
      ],
      "metadata": {
        "id": "YlZAnPqa2Nil"
      }
    },
    {
      "cell_type": "code",
      "source": [
        "False"
      ],
      "metadata": {
        "colab": {
          "base_uri": "https://localhost:8080/"
        },
        "id": "pZ47hyYY2mtu",
        "outputId": "509337fb-b89a-4947-f098-ba4f1d2c17e2"
      },
      "execution_count": 1,
      "outputs": [
        {
          "output_type": "execute_result",
          "data": {
            "text/plain": [
              "False"
            ]
          },
          "metadata": {},
          "execution_count": 1
        }
      ]
    },
    {
      "cell_type": "code",
      "source": [
        "print(True, False)"
      ],
      "metadata": {
        "colab": {
          "base_uri": "https://localhost:8080/"
        },
        "id": "xO8NFaEQ4Krv",
        "outputId": "9f858400-8679-4735-f040-463a8e988c10"
      },
      "execution_count": 2,
      "outputs": [
        {
          "output_type": "stream",
          "name": "stdout",
          "text": [
            "True False\n"
          ]
        }
      ]
    },
    {
      "cell_type": "code",
      "source": [
        "type(True)"
      ],
      "metadata": {
        "colab": {
          "base_uri": "https://localhost:8080/"
        },
        "id": "9zOzgQkJ4NWO",
        "outputId": "3fd6711e-bbbf-484c-cc38-1559f1c78f2d"
      },
      "execution_count": 3,
      "outputs": [
        {
          "output_type": "execute_result",
          "data": {
            "text/plain": [
              "bool"
            ]
          },
          "metadata": {},
          "execution_count": 3
        }
      ]
    },
    {
      "cell_type": "code",
      "source": [
        "type(False)"
      ],
      "metadata": {
        "colab": {
          "base_uri": "https://localhost:8080/"
        },
        "id": "RW6bEXk94PQh",
        "outputId": "ae1f4070-53ff-4351-87aa-94fd00c2d2a0"
      },
      "execution_count": 5,
      "outputs": [
        {
          "output_type": "execute_result",
          "data": {
            "text/plain": [
              "bool"
            ]
          },
          "metadata": {},
          "execution_count": 5
        }
      ]
    },
    {
      "cell_type": "code",
      "source": [
        "my_str = \"Hello World\""
      ],
      "metadata": {
        "id": "Oi76Zmje4RaK"
      },
      "execution_count": 6,
      "outputs": []
    },
    {
      "cell_type": "code",
      "source": [
        "print(my_str.isalnum()) # Check if all char are numbers\n",
        "print(my_str.isalpha()) # Check if all char in the string are alphabetic\n",
        "print(my_str.isdigit()) # Test if string contains digits\n",
        "print(my_str.istitle()) # Test if string contains title words\n",
        "print(my_str.isupper()) # Test if string contains upper case\n",
        "print(my_str.islower()) # Test if string contains lower case\n",
        "print(my_str.isspace()) # Test if string contains spaces\n",
        "print(my_str.endswith('d')) # Test if string endswith a 'd'\n",
        "print(my_str.startswith('H')) # Test if string startswith H"
      ],
      "metadata": {
        "colab": {
          "base_uri": "https://localhost:8080/"
        },
        "id": "2UfAafeV4ZsO",
        "outputId": "36e86cf3-394f-4fdf-b03b-a38055adf253"
      },
      "execution_count": 8,
      "outputs": [
        {
          "output_type": "stream",
          "name": "stdout",
          "text": [
            "False\n",
            "False\n",
            "False\n",
            "True\n",
            "False\n",
            "False\n",
            "False\n",
            "True\n",
            "True\n"
          ]
        }
      ]
    },
    {
      "cell_type": "markdown",
      "source": [
        "# Boolean and Logical Operators"
      ],
      "metadata": {
        "id": "BxjMCJF76tgx"
      }
    },
    {
      "cell_type": "code",
      "source": [
        "True and True"
      ],
      "metadata": {
        "colab": {
          "base_uri": "https://localhost:8080/"
        },
        "id": "aVSaLRER5rQo",
        "outputId": "bb465d83-6fb2-4d6b-e400-6170016f1c09"
      },
      "execution_count": 9,
      "outputs": [
        {
          "output_type": "execute_result",
          "data": {
            "text/plain": [
              "True"
            ]
          },
          "metadata": {},
          "execution_count": 9
        }
      ]
    },
    {
      "cell_type": "code",
      "source": [
        "True and False"
      ],
      "metadata": {
        "colab": {
          "base_uri": "https://localhost:8080/"
        },
        "id": "e8G9McIu63E-",
        "outputId": "ad6e31d6-421d-4b18-fe1f-003cc8d1d73c"
      },
      "execution_count": 10,
      "outputs": [
        {
          "output_type": "execute_result",
          "data": {
            "text/plain": [
              "False"
            ]
          },
          "metadata": {},
          "execution_count": 10
        }
      ]
    },
    {
      "cell_type": "code",
      "source": [
        "True or False"
      ],
      "metadata": {
        "colab": {
          "base_uri": "https://localhost:8080/"
        },
        "id": "_MwcElPl64lI",
        "outputId": "895c0d42-a974-4f7c-e3f9-32efa9955ba8"
      },
      "execution_count": 11,
      "outputs": [
        {
          "output_type": "execute_result",
          "data": {
            "text/plain": [
              "True"
            ]
          },
          "metadata": {},
          "execution_count": 11
        }
      ]
    },
    {
      "cell_type": "code",
      "source": [
        "True or True"
      ],
      "metadata": {
        "colab": {
          "base_uri": "https://localhost:8080/"
        },
        "id": "f_WRj6fC68Qn",
        "outputId": "10183c0a-5f88-423e-8265-4efb7795667f"
      },
      "execution_count": 12,
      "outputs": [
        {
          "output_type": "execute_result",
          "data": {
            "text/plain": [
              "True"
            ]
          },
          "metadata": {},
          "execution_count": 12
        }
      ]
    },
    {
      "cell_type": "code",
      "source": [
        "str_example = \"Hello World\"\n",
        "my_string = \"Adam\""
      ],
      "metadata": {
        "id": "OGzT1ZXy7HfP"
      },
      "execution_count": 13,
      "outputs": []
    },
    {
      "cell_type": "code",
      "source": [
        "my_string.isalpha() or my_string.isnum()"
      ],
      "metadata": {
        "colab": {
          "base_uri": "https://localhost:8080/"
        },
        "id": "cP4k9bfC7YMV",
        "outputId": "3cca6dc2-36b4-4528-c10a-e5d5e5bffb0c"
      },
      "execution_count": 14,
      "outputs": [
        {
          "output_type": "execute_result",
          "data": {
            "text/plain": [
              "True"
            ]
          },
          "metadata": {},
          "execution_count": 14
        }
      ]
    },
    {
      "cell_type": "markdown",
      "source": [
        "# Lists\n",
        "\n",
        "A list is a data structure in Python that is mutable or changeable, ordered sequence of elements. Each element or value that <br>\n",
        "is inside of a list is called an item. Just as strings are defined as characters between quotes, lists are defined by having values <br>\n",
        "between square brackets []"
      ],
      "metadata": {
        "id": "hQ8VN7I07npq"
      }
    },
    {
      "cell_type": "code",
      "source": [
        "type([])"
      ],
      "metadata": {
        "colab": {
          "base_uri": "https://localhost:8080/"
        },
        "id": "kub4q-cr7eUV",
        "outputId": "f68723b7-b214-4ca9-b613-1c0128d4af7d"
      },
      "execution_count": 15,
      "outputs": [
        {
          "output_type": "execute_result",
          "data": {
            "text/plain": [
              "list"
            ]
          },
          "metadata": {},
          "execution_count": 15
        }
      ]
    },
    {
      "cell_type": "code",
      "source": [
        "list_example = []"
      ],
      "metadata": {
        "id": "OO7Hng5Y8eCn"
      },
      "execution_count": 16,
      "outputs": []
    },
    {
      "cell_type": "code",
      "source": [
        "type(list_example)"
      ],
      "metadata": {
        "colab": {
          "base_uri": "https://localhost:8080/"
        },
        "id": "Iz__RvMs8koK",
        "outputId": "de3f07bb-15aa-4953-ee14-b184f314d2df"
      },
      "execution_count": 17,
      "outputs": [
        {
          "output_type": "execute_result",
          "data": {
            "text/plain": [
              "list"
            ]
          },
          "metadata": {},
          "execution_count": 17
        }
      ]
    },
    {
      "cell_type": "code",
      "source": [
        "lst = list()"
      ],
      "metadata": {
        "id": "edUTMIAX8m7X"
      },
      "execution_count": 18,
      "outputs": []
    },
    {
      "cell_type": "code",
      "source": [
        "type(lst)"
      ],
      "metadata": {
        "colab": {
          "base_uri": "https://localhost:8080/"
        },
        "id": "sURzrp5a8rdq",
        "outputId": "ffdd1466-0c82-4818-934d-732c4dcb1432"
      },
      "execution_count": 19,
      "outputs": [
        {
          "output_type": "execute_result",
          "data": {
            "text/plain": [
              "list"
            ]
          },
          "metadata": {},
          "execution_count": 19
        }
      ]
    },
    {
      "cell_type": "code",
      "source": [
        "lst_examp = ['Mathematics', 'Chemistry', 100, 200, 300, 400]"
      ],
      "metadata": {
        "id": "F79oip0I8swM"
      },
      "execution_count": 20,
      "outputs": []
    },
    {
      "cell_type": "code",
      "source": [
        "type(lst_examp)"
      ],
      "metadata": {
        "colab": {
          "base_uri": "https://localhost:8080/"
        },
        "id": "-lUlAuOn84l0",
        "outputId": "620b1207-ffc9-42e5-cc8e-788415c0e0a0"
      },
      "execution_count": 21,
      "outputs": [
        {
          "output_type": "execute_result",
          "data": {
            "text/plain": [
              "list"
            ]
          },
          "metadata": {},
          "execution_count": 21
        }
      ]
    },
    {
      "cell_type": "code",
      "source": [
        "len(lst_examp)"
      ],
      "metadata": {
        "colab": {
          "base_uri": "https://localhost:8080/"
        },
        "id": "enW-M3CE87Cq",
        "outputId": "1be597f9-7300-49c9-ffda-e5ef02f8251f"
      },
      "execution_count": 22,
      "outputs": [
        {
          "output_type": "execute_result",
          "data": {
            "text/plain": [
              "6"
            ]
          },
          "metadata": {},
          "execution_count": 22
        }
      ]
    },
    {
      "cell_type": "markdown",
      "source": [
        "## Append"
      ],
      "metadata": {
        "id": "T49fDHFo9GBW"
      }
    },
    {
      "cell_type": "code",
      "source": [
        "# append is used to add element in the list\n",
        "lst_examp.append(\"Hello\")"
      ],
      "metadata": {
        "id": "QZ_FJCnW8_wV"
      },
      "execution_count": 23,
      "outputs": []
    },
    {
      "cell_type": "code",
      "source": [
        "lst_examp"
      ],
      "metadata": {
        "colab": {
          "base_uri": "https://localhost:8080/"
        },
        "id": "8i-ryaZ_9VKi",
        "outputId": "bced3261-3cad-4a6f-c9f1-ad5f75bacc10"
      },
      "execution_count": 25,
      "outputs": [
        {
          "output_type": "execute_result",
          "data": {
            "text/plain": [
              "['Mathematics', 'Chemistry', 100, 200, 300, 400, 'Hello']"
            ]
          },
          "metadata": {},
          "execution_count": 25
        }
      ]
    },
    {
      "cell_type": "code",
      "source": [
        "# Indexing in list\n",
        "lst_examp[3]"
      ],
      "metadata": {
        "colab": {
          "base_uri": "https://localhost:8080/"
        },
        "id": "oHWYFQ9c9fq3",
        "outputId": "1b1d67fb-9045-4265-e357-e3b1c3723097"
      },
      "execution_count": 26,
      "outputs": [
        {
          "output_type": "execute_result",
          "data": {
            "text/plain": [
              "200"
            ]
          },
          "metadata": {},
          "execution_count": 26
        }
      ]
    },
    {
      "cell_type": "code",
      "source": [
        "# Use : to indexing with range. : basically to pick up all items in list\n",
        "lst_examp[1:]"
      ],
      "metadata": {
        "colab": {
          "base_uri": "https://localhost:8080/"
        },
        "id": "nHsqD-w19480",
        "outputId": "20bf2163-6687-4433-b9d4-c354456d2c37"
      },
      "execution_count": 27,
      "outputs": [
        {
          "output_type": "execute_result",
          "data": {
            "text/plain": [
              "['Chemistry', 100, 200, 300, 400, 'Hello']"
            ]
          },
          "metadata": {},
          "execution_count": 27
        }
      ]
    },
    {
      "cell_type": "code",
      "source": [
        "lst_examp[1:6]"
      ],
      "metadata": {
        "colab": {
          "base_uri": "https://localhost:8080/"
        },
        "id": "osS4i7Ze-NvH",
        "outputId": "6ce4af5e-498d-4a55-d214-7b6d5f1974fd"
      },
      "execution_count": 28,
      "outputs": [
        {
          "output_type": "execute_result",
          "data": {
            "text/plain": [
              "['Chemistry', 100, 200, 300, 400]"
            ]
          },
          "metadata": {},
          "execution_count": 28
        }
      ]
    },
    {
      "cell_type": "code",
      "source": [
        "# Creating nested list\n",
        "lst_examp.append([\"Hello\", \"World\"])"
      ],
      "metadata": {
        "id": "0sn0bYyn_BRp"
      },
      "execution_count": 30,
      "outputs": []
    },
    {
      "cell_type": "code",
      "source": [
        "lst_examp"
      ],
      "metadata": {
        "colab": {
          "base_uri": "https://localhost:8080/"
        },
        "id": "MoPN9iuo_QoJ",
        "outputId": "25c6140f-f898-4ae9-a9c5-878b17d192d9"
      },
      "execution_count": 31,
      "outputs": [
        {
          "output_type": "execute_result",
          "data": {
            "text/plain": [
              "['Mathematics', 'Chemistry', 100, 200, 300, 400, 'Hello', ['Hello', 'World']]"
            ]
          },
          "metadata": {},
          "execution_count": 31
        }
      ]
    },
    {
      "cell_type": "markdown",
      "source": [
        "## Insert"
      ],
      "metadata": {
        "id": "fwxJRGBd9YqW"
      }
    },
    {
      "cell_type": "code",
      "source": [
        "# Insert in a specific order\n",
        "lst_examp.insert(2, \"Biology\")"
      ],
      "metadata": {
        "id": "LiF3NauV9WhE"
      },
      "execution_count": 32,
      "outputs": []
    },
    {
      "cell_type": "code",
      "source": [
        "lst_examp"
      ],
      "metadata": {
        "colab": {
          "base_uri": "https://localhost:8080/"
        },
        "id": "FRIS2wm0_mkq",
        "outputId": "c06a3f48-db5c-42fb-b986-9c711bd967d5"
      },
      "execution_count": 33,
      "outputs": [
        {
          "output_type": "execute_result",
          "data": {
            "text/plain": [
              "['Mathematics',\n",
              " 'Chemistry',\n",
              " 'Biology',\n",
              " 100,\n",
              " 200,\n",
              " 300,\n",
              " 400,\n",
              " 'Hello',\n",
              " ['Hello', 'World']]"
            ]
          },
          "metadata": {},
          "execution_count": 33
        }
      ]
    },
    {
      "cell_type": "markdown",
      "source": [
        "## Extend Method"
      ],
      "metadata": {
        "id": "scAmsCDY_7N5"
      }
    },
    {
      "cell_type": "code",
      "source": [
        "lst = [1, 2, 3]"
      ],
      "metadata": {
        "id": "_fy8eCe2_nrW"
      },
      "execution_count": 35,
      "outputs": []
    },
    {
      "cell_type": "code",
      "source": [
        "lst.append([4, 5])"
      ],
      "metadata": {
        "id": "hzPcfgcrAE6Y"
      },
      "execution_count": 36,
      "outputs": []
    },
    {
      "cell_type": "code",
      "source": [
        "lst"
      ],
      "metadata": {
        "colab": {
          "base_uri": "https://localhost:8080/"
        },
        "id": "TL5DvSb3AI4H",
        "outputId": "a2545a79-741c-4688-84b2-5948ba4bceb5"
      },
      "execution_count": 37,
      "outputs": [
        {
          "output_type": "execute_result",
          "data": {
            "text/plain": [
              "[1, 2, 3, [4, 5]]"
            ]
          },
          "metadata": {},
          "execution_count": 37
        }
      ]
    },
    {
      "cell_type": "code",
      "source": [
        "lst.extend([6,7])"
      ],
      "metadata": {
        "id": "7y1RTEQvAJqu"
      },
      "execution_count": 38,
      "outputs": []
    },
    {
      "cell_type": "code",
      "source": [
        "lst"
      ],
      "metadata": {
        "colab": {
          "base_uri": "https://localhost:8080/"
        },
        "id": "wuOOyaC8AldK",
        "outputId": "efb86dc1-1d6c-429d-8772-1c6fdb49b85d"
      },
      "execution_count": 39,
      "outputs": [
        {
          "output_type": "execute_result",
          "data": {
            "text/plain": [
              "[1, 2, 3, [4, 5], 6, 7]"
            ]
          },
          "metadata": {},
          "execution_count": 39
        }
      ]
    },
    {
      "cell_type": "markdown",
      "source": [
        "## Various Operations that we can perform in List"
      ],
      "metadata": {
        "id": "Us_IknX_AtGM"
      }
    },
    {
      "cell_type": "code",
      "source": [
        "lsts = [1, 2, 3, 4, 5]"
      ],
      "metadata": {
        "id": "92LDKSK_AmKS"
      },
      "execution_count": 40,
      "outputs": []
    },
    {
      "cell_type": "code",
      "source": [
        "sum(lsts)"
      ],
      "metadata": {
        "colab": {
          "base_uri": "https://localhost:8080/"
        },
        "id": "-agJOOg-A1n-",
        "outputId": "dfb8b1c4-07ed-4d74-e7c5-bce7d6d10e5e"
      },
      "execution_count": 41,
      "outputs": [
        {
          "output_type": "execute_result",
          "data": {
            "text/plain": [
              "15"
            ]
          },
          "metadata": {},
          "execution_count": 41
        }
      ]
    },
    {
      "cell_type": "code",
      "source": [
        "lsts * 3"
      ],
      "metadata": {
        "colab": {
          "base_uri": "https://localhost:8080/"
        },
        "id": "nc5sLILiDf44",
        "outputId": "c9c4ff7b-7d48-4495-9e50-93a004b46af5"
      },
      "execution_count": 57,
      "outputs": [
        {
          "output_type": "execute_result",
          "data": {
            "text/plain": [
              "[2, 3, 4, 2, 3, 4, 2, 3, 4]"
            ]
          },
          "metadata": {},
          "execution_count": 57
        }
      ]
    },
    {
      "cell_type": "markdown",
      "source": [
        "## Pop() Method"
      ],
      "metadata": {
        "id": "RvvDaovxBBTt"
      }
    },
    {
      "cell_type": "code",
      "source": [
        "lsts.pop()"
      ],
      "metadata": {
        "colab": {
          "base_uri": "https://localhost:8080/"
        },
        "id": "yW_tte3cA3jJ",
        "outputId": "8d33921b-614d-40f9-d710-16ba0fee1489"
      },
      "execution_count": 43,
      "outputs": [
        {
          "output_type": "execute_result",
          "data": {
            "text/plain": [
              "5"
            ]
          },
          "metadata": {},
          "execution_count": 43
        }
      ]
    },
    {
      "cell_type": "code",
      "source": [
        "lsts"
      ],
      "metadata": {
        "colab": {
          "base_uri": "https://localhost:8080/"
        },
        "id": "bMZwJMDeBIXr",
        "outputId": "f5a94dd7-7c74-46fd-b399-ee87f2c5d12e"
      },
      "execution_count": 44,
      "outputs": [
        {
          "output_type": "execute_result",
          "data": {
            "text/plain": [
              "[1, 2, 3, 4]"
            ]
          },
          "metadata": {},
          "execution_count": 44
        }
      ]
    },
    {
      "cell_type": "code",
      "source": [
        "# Use pop with specific index\n",
        "lsts.pop(0)"
      ],
      "metadata": {
        "colab": {
          "base_uri": "https://localhost:8080/"
        },
        "id": "gmFtITTVBLl-",
        "outputId": "9be508a1-763d-4c6c-f907-d7875b7f1195"
      },
      "execution_count": 45,
      "outputs": [
        {
          "output_type": "execute_result",
          "data": {
            "text/plain": [
              "1"
            ]
          },
          "metadata": {},
          "execution_count": 45
        }
      ]
    },
    {
      "cell_type": "code",
      "source": [
        "lsts"
      ],
      "metadata": {
        "colab": {
          "base_uri": "https://localhost:8080/"
        },
        "id": "nnuQr0VABVve",
        "outputId": "5a2c2d93-a198-454a-e70e-017d62c57b77"
      },
      "execution_count": 46,
      "outputs": [
        {
          "output_type": "execute_result",
          "data": {
            "text/plain": [
              "[2, 3, 4]"
            ]
          },
          "metadata": {},
          "execution_count": 46
        }
      ]
    },
    {
      "cell_type": "markdown",
      "source": [
        "## Count()\n",
        "\n",
        "Calculates total occurance of given element of List"
      ],
      "metadata": {
        "id": "aKxKjopbBbsH"
      }
    },
    {
      "cell_type": "code",
      "source": [
        "lst_1 = [1, 1, 2, 3, 4, 5]\n",
        "lst_1.count(1)"
      ],
      "metadata": {
        "colab": {
          "base_uri": "https://localhost:8080/"
        },
        "id": "1_F4o38qBWX9",
        "outputId": "8d0808db-cbe4-4bbf-eaf9-c60edff86e8f"
      },
      "execution_count": 49,
      "outputs": [
        {
          "output_type": "execute_result",
          "data": {
            "text/plain": [
              "2"
            ]
          },
          "metadata": {},
          "execution_count": 49
        }
      ]
    },
    {
      "cell_type": "code",
      "source": [
        "# Len -> Calculates total of length of list\n",
        "len(lst_1)"
      ],
      "metadata": {
        "colab": {
          "base_uri": "https://localhost:8080/"
        },
        "id": "U__VxeGQBzDz",
        "outputId": "ead07ece-2e83-4bf2-9379-912d39053955"
      },
      "execution_count": 50,
      "outputs": [
        {
          "output_type": "execute_result",
          "data": {
            "text/plain": [
              "6"
            ]
          },
          "metadata": {},
          "execution_count": 50
        }
      ]
    },
    {
      "cell_type": "code",
      "source": [
        "# Index -> Returns the index of first occurence. Start and End index are not necessary parameters\n",
        "lst_1.index(2, 1, 4)"
      ],
      "metadata": {
        "colab": {
          "base_uri": "https://localhost:8080/"
        },
        "id": "jqL-9J2QCBbO",
        "outputId": "695e9728-a637-4cff-f515-a1fd704ce2a4"
      },
      "execution_count": 54,
      "outputs": [
        {
          "output_type": "execute_result",
          "data": {
            "text/plain": [
              "2"
            ]
          },
          "metadata": {},
          "execution_count": 54
        }
      ]
    },
    {
      "cell_type": "code",
      "source": [
        "# Min and Max\n",
        "min(lst_1)"
      ],
      "metadata": {
        "colab": {
          "base_uri": "https://localhost:8080/"
        },
        "id": "E9pzmBfKCqrG",
        "outputId": "c3adc89a-67ad-4a60-bcb3-21bb090d526b"
      },
      "execution_count": 55,
      "outputs": [
        {
          "output_type": "execute_result",
          "data": {
            "text/plain": [
              "1"
            ]
          },
          "metadata": {},
          "execution_count": 55
        }
      ]
    },
    {
      "cell_type": "code",
      "source": [
        "max(lst_1)"
      ],
      "metadata": {
        "colab": {
          "base_uri": "https://localhost:8080/"
        },
        "id": "TLrCIEXyDOEX",
        "outputId": "e4c65101-d6ad-46de-a9b5-d54a8dac8aa8"
      },
      "execution_count": 56,
      "outputs": [
        {
          "output_type": "execute_result",
          "data": {
            "text/plain": [
              "5"
            ]
          },
          "metadata": {},
          "execution_count": 56
        }
      ]
    }
  ]
}